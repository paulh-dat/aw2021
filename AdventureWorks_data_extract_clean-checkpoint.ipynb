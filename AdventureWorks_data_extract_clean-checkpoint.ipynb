{
 "cells": [
  {
   "cell_type": "markdown",
   "id": "7c9f3d35",
   "metadata": {},
   "source": [
    "Initialise and establish connection to SQL Server and Database"
   ]
  },
  {
   "cell_type": "code",
   "execution_count": 3,
   "id": "eb4bf8e5",
   "metadata": {},
   "outputs": [],
   "source": [
    "import pyodbc\n",
    "import pandas as pd\n",
    "\n",
    "cnxn = pyodbc.connect(\"Driver={SQL Server};\"\n",
    "                      \"Server=localhost\\SQLEXPRESS;\"\n",
    "                      \"Database=AdventureWorksDW2016;\"\n",
    "                      \"Trusted_Connection=True;\")\n",
    "                \n",
    "\n",
    "\n",
    "cursor = cnxn.cursor()"
   ]
  },
  {
   "cell_type": "markdown",
   "id": "b8d9c3f6",
   "metadata": {},
   "source": [
    "Import main data - Sales, Customer and Product data - joined by customer and product keys.\n",
    "1 line per sale line item / product item sold. 61000 rows"
   ]
  },
  {
   "cell_type": "code",
   "execution_count": 27,
   "id": "574c328a",
   "metadata": {},
   "outputs": [],
   "source": [
    "main = pd.read_sql(\n",
    "    \"\"\"select Cust.*,Sales.*,Prod.*\n",
    "from [dbo].[FactInternetSales] Sales\n",
    "left join [dbo].[DimCustomer] Cust\n",
    "on Sales.[CustomerKey] = Cust.[CustomerKey]\n",
    "left join [dbo].[DimProduct] Prod on\n",
    "Sales.[ProductKey] = Prod.[ProductKey]\"\"\", cnxn)"
   ]
  },
  {
   "cell_type": "code",
   "execution_count": 28,
   "id": "8569fce9",
   "metadata": {},
   "outputs": [
    {
     "data": {
      "text/html": [
       "<div>\n",
       "<style scoped>\n",
       "    .dataframe tbody tr th:only-of-type {\n",
       "        vertical-align: middle;\n",
       "    }\n",
       "\n",
       "    .dataframe tbody tr th {\n",
       "        vertical-align: top;\n",
       "    }\n",
       "\n",
       "    .dataframe thead th {\n",
       "        text-align: right;\n",
       "    }\n",
       "</style>\n",
       "<table border=\"1\" class=\"dataframe\">\n",
       "  <thead>\n",
       "    <tr style=\"text-align: right;\">\n",
       "      <th></th>\n",
       "      <th>CustomerKey</th>\n",
       "      <th>GeographyKey</th>\n",
       "      <th>CustomerAlternateKey</th>\n",
       "      <th>Title</th>\n",
       "      <th>FirstName</th>\n",
       "      <th>MiddleName</th>\n",
       "      <th>LastName</th>\n",
       "      <th>NameStyle</th>\n",
       "      <th>BirthDate</th>\n",
       "      <th>MaritalStatus</th>\n",
       "      <th>...</th>\n",
       "      <th>ChineseDescription</th>\n",
       "      <th>ArabicDescription</th>\n",
       "      <th>HebrewDescription</th>\n",
       "      <th>ThaiDescription</th>\n",
       "      <th>GermanDescription</th>\n",
       "      <th>JapaneseDescription</th>\n",
       "      <th>TurkishDescription</th>\n",
       "      <th>StartDate</th>\n",
       "      <th>EndDate</th>\n",
       "      <th>Status</th>\n",
       "    </tr>\n",
       "  </thead>\n",
       "  <tbody>\n",
       "    <tr>\n",
       "      <th>0</th>\n",
       "      <td>11000</td>\n",
       "      <td>26</td>\n",
       "      <td>AW00011000</td>\n",
       "      <td>None</td>\n",
       "      <td>Jon</td>\n",
       "      <td>V</td>\n",
       "      <td>Yang</td>\n",
       "      <td>False</td>\n",
       "      <td>1971-10-06</td>\n",
       "      <td>M</td>\n",
       "      <td>...</td>\n",
       "      <td>高档竞赛山地车。性能得到进一步增强，包括创新的 HL 车架、极其平稳的前悬架以及适用于所有地...</td>\n",
       "      <td>دراجة سباقات مخصصة للقيادة في الجبال من أعلى ط...</td>\n",
       "      <td>אופני הרים תחרותיים מהשורה הראשונה. אפשרויות ל...</td>\n",
       "      <td>สุดยอดจักรยานภูเขาสำหรับการแข่งขัน สมบูรณ์แบบด...</td>\n",
       "      <td>\"Top-Mountainbike für Profis. Mit innovativem ...</td>\n",
       "      <td>最高級の競技用マウンテン バイクです。性能強化オプションとしては、革新的な HL フレーム、...</td>\n",
       "      <td>\"En üst model rekabetçi dağ bisikleti. Perform...</td>\n",
       "      <td>2011-07-01</td>\n",
       "      <td>2007-12-28</td>\n",
       "      <td>None</td>\n",
       "    </tr>\n",
       "    <tr>\n",
       "      <th>1</th>\n",
       "      <td>11000</td>\n",
       "      <td>26</td>\n",
       "      <td>AW00011000</td>\n",
       "      <td>None</td>\n",
       "      <td>Jon</td>\n",
       "      <td>V</td>\n",
       "      <td>Yang</td>\n",
       "      <td>False</td>\n",
       "      <td>1971-10-06</td>\n",
       "      <td>M</td>\n",
       "      <td>...</td>\n",
       "      <td>适用于环境恶劣的野外骑乘。可应对各种比赛的完美赛车。使用与 Mountain-100 相同的...</td>\n",
       "      <td>لقيادة المحترفين في المناطق الريفية. دراجة مُث...</td>\n",
       "      <td>לרכיבה רצינית בשטחים נידחים. מתאימים לכל רמה ש...</td>\n",
       "      <td>สำหรับการขี่ในเส้นทางผจญภัย  เหมาะที่สุดสำหรับ...</td>\n",
       "      <td>Mountainbike für Profis. Perfekt für alle Schw...</td>\n",
       "      <td>バック カントリーまたは全レベルの競技用で、Mountain-100 と同じ HL フレーム...</td>\n",
       "      <td>Gerçek arazi sürüşü. Tüm yarışma seviyeleri iç...</td>\n",
       "      <td>2013-07-01</td>\n",
       "      <td>NaT</td>\n",
       "      <td>Current</td>\n",
       "    </tr>\n",
       "  </tbody>\n",
       "</table>\n",
       "<p>2 rows × 91 columns</p>\n",
       "</div>"
      ],
      "text/plain": [
       "   CustomerKey  GeographyKey CustomerAlternateKey Title FirstName MiddleName  \\\n",
       "0        11000            26           AW00011000  None       Jon          V   \n",
       "1        11000            26           AW00011000  None       Jon          V   \n",
       "\n",
       "  LastName  NameStyle   BirthDate MaritalStatus  ...  \\\n",
       "0     Yang      False  1971-10-06             M  ...   \n",
       "1     Yang      False  1971-10-06             M  ...   \n",
       "\n",
       "                                  ChineseDescription  \\\n",
       "0  高档竞赛山地车。性能得到进一步增强，包括创新的 HL 车架、极其平稳的前悬架以及适用于所有地...   \n",
       "1  适用于环境恶劣的野外骑乘。可应对各种比赛的完美赛车。使用与 Mountain-100 相同的...   \n",
       "\n",
       "                                   ArabicDescription  \\\n",
       "0  دراجة سباقات مخصصة للقيادة في الجبال من أعلى ط...   \n",
       "1  لقيادة المحترفين في المناطق الريفية. دراجة مُث...   \n",
       "\n",
       "                                   HebrewDescription  \\\n",
       "0  אופני הרים תחרותיים מהשורה הראשונה. אפשרויות ל...   \n",
       "1  לרכיבה רצינית בשטחים נידחים. מתאימים לכל רמה ש...   \n",
       "\n",
       "                                     ThaiDescription  \\\n",
       "0  สุดยอดจักรยานภูเขาสำหรับการแข่งขัน สมบูรณ์แบบด...   \n",
       "1  สำหรับการขี่ในเส้นทางผจญภัย  เหมาะที่สุดสำหรับ...   \n",
       "\n",
       "                                   GermanDescription  \\\n",
       "0  \"Top-Mountainbike für Profis. Mit innovativem ...   \n",
       "1  Mountainbike für Profis. Perfekt für alle Schw...   \n",
       "\n",
       "                                 JapaneseDescription  \\\n",
       "0  最高級の競技用マウンテン バイクです。性能強化オプションとしては、革新的な HL フレーム、...   \n",
       "1  バック カントリーまたは全レベルの競技用で、Mountain-100 と同じ HL フレーム...   \n",
       "\n",
       "                                  TurkishDescription  StartDate    EndDate  \\\n",
       "0  \"En üst model rekabetçi dağ bisikleti. Perform... 2011-07-01 2007-12-28   \n",
       "1  Gerçek arazi sürüşü. Tüm yarışma seviyeleri iç... 2013-07-01        NaT   \n",
       "\n",
       "    Status  \n",
       "0     None  \n",
       "1  Current  \n",
       "\n",
       "[2 rows x 91 columns]"
      ]
     },
     "execution_count": 28,
     "metadata": {},
     "output_type": "execute_result"
    }
   ],
   "source": [
    "main.head(2)"
   ]
  },
  {
   "cell_type": "markdown",
   "id": "9170fd04",
   "metadata": {},
   "source": [
    "look through columns and select drop list - eg multi language descriptions"
   ]
  },
  {
   "cell_type": "code",
   "execution_count": 29,
   "id": "f6f0b9c0",
   "metadata": {},
   "outputs": [
    {
     "data": {
      "text/plain": [
       "['CustomerKey',\n",
       " 'GeographyKey',\n",
       " 'CustomerAlternateKey',\n",
       " 'Title',\n",
       " 'FirstName',\n",
       " 'MiddleName',\n",
       " 'LastName',\n",
       " 'NameStyle',\n",
       " 'BirthDate',\n",
       " 'MaritalStatus',\n",
       " 'Suffix',\n",
       " 'Gender',\n",
       " 'EmailAddress',\n",
       " 'YearlyIncome',\n",
       " 'TotalChildren',\n",
       " 'NumberChildrenAtHome',\n",
       " 'EnglishEducation',\n",
       " 'SpanishEducation',\n",
       " 'FrenchEducation',\n",
       " 'EnglishOccupation',\n",
       " 'SpanishOccupation',\n",
       " 'FrenchOccupation',\n",
       " 'HouseOwnerFlag',\n",
       " 'NumberCarsOwned',\n",
       " 'AddressLine1',\n",
       " 'AddressLine2',\n",
       " 'Phone',\n",
       " 'DateFirstPurchase',\n",
       " 'CommuteDistance',\n",
       " 'ProductKey',\n",
       " 'OrderDateKey',\n",
       " 'DueDateKey',\n",
       " 'ShipDateKey',\n",
       " 'CustomerKey',\n",
       " 'PromotionKey',\n",
       " 'CurrencyKey',\n",
       " 'SalesTerritoryKey',\n",
       " 'SalesOrderNumber',\n",
       " 'SalesOrderLineNumber',\n",
       " 'RevisionNumber',\n",
       " 'OrderQuantity',\n",
       " 'UnitPrice',\n",
       " 'ExtendedAmount',\n",
       " 'UnitPriceDiscountPct',\n",
       " 'DiscountAmount',\n",
       " 'ProductStandardCost',\n",
       " 'TotalProductCost',\n",
       " 'SalesAmount',\n",
       " 'TaxAmt',\n",
       " 'Freight',\n",
       " 'CarrierTrackingNumber',\n",
       " 'CustomerPONumber',\n",
       " 'OrderDate',\n",
       " 'DueDate',\n",
       " 'ShipDate',\n",
       " 'ProductKey',\n",
       " 'ProductAlternateKey',\n",
       " 'ProductSubcategoryKey',\n",
       " 'WeightUnitMeasureCode',\n",
       " 'SizeUnitMeasureCode',\n",
       " 'EnglishProductName',\n",
       " 'SpanishProductName',\n",
       " 'FrenchProductName',\n",
       " 'StandardCost',\n",
       " 'FinishedGoodsFlag',\n",
       " 'Color',\n",
       " 'SafetyStockLevel',\n",
       " 'ReorderPoint',\n",
       " 'ListPrice',\n",
       " 'Size',\n",
       " 'SizeRange',\n",
       " 'Weight',\n",
       " 'DaysToManufacture',\n",
       " 'ProductLine',\n",
       " 'DealerPrice',\n",
       " 'Class',\n",
       " 'Style',\n",
       " 'ModelName',\n",
       " 'LargePhoto',\n",
       " 'EnglishDescription',\n",
       " 'FrenchDescription',\n",
       " 'ChineseDescription',\n",
       " 'ArabicDescription',\n",
       " 'HebrewDescription',\n",
       " 'ThaiDescription',\n",
       " 'GermanDescription',\n",
       " 'JapaneseDescription',\n",
       " 'TurkishDescription',\n",
       " 'StartDate',\n",
       " 'EndDate',\n",
       " 'Status']"
      ]
     },
     "execution_count": 29,
     "metadata": {},
     "output_type": "execute_result"
    }
   ],
   "source": [
    "list(main.columns)"
   ]
  },
  {
   "cell_type": "code",
   "execution_count": 30,
   "id": "5d8534b2",
   "metadata": {},
   "outputs": [],
   "source": [
    "drop = [\n",
    "    'FrenchDescription',\n",
    "    'ArabicDescription',\n",
    "    'HebrewDescription',\n",
    "    'ThaiDescription',\n",
    "    'GermanDescription',\n",
    "    'JapaneseDescription',\n",
    "    'TurkishDescription',\n",
    "    'LargePhoto',\n",
    "    'SpanishProductName',\n",
    "    'FrenchProductName',\n",
    "    'SpanishOccupation',\n",
    "    'FrenchOccupation', \n",
    "    'SpanishEducation',\n",
    "    'FrenchEducation', \n",
    "    'AddressLine1',\n",
    "    'AddressLine2',\n",
    "    'Phone',\n",
    "    'ChineseDescription',\n",
    "    'CustomerAlternateKey',\n",
    "    'Title',\n",
    "    'FirstName',\n",
    "    'MiddleName',\n",
    "    'LastName',\n",
    "    'NameStyle',\n",
    "    'Suffix',\n",
    "    'EmailAddress',\n",
    "    'AddressLine1',\n",
    "    'AddressLine2',\n",
    "    'Phone'\n",
    "]\n",
    "\n",
    "main = main.drop(columns = drop)"
   ]
  },
  {
   "cell_type": "code",
   "execution_count": 31,
   "id": "e150302b",
   "metadata": {},
   "outputs": [
    {
     "data": {
      "text/html": [
       "<div>\n",
       "<style scoped>\n",
       "    .dataframe tbody tr th:only-of-type {\n",
       "        vertical-align: middle;\n",
       "    }\n",
       "\n",
       "    .dataframe tbody tr th {\n",
       "        vertical-align: top;\n",
       "    }\n",
       "\n",
       "    .dataframe thead th {\n",
       "        text-align: right;\n",
       "    }\n",
       "</style>\n",
       "<table border=\"1\" class=\"dataframe\">\n",
       "  <thead>\n",
       "    <tr style=\"text-align: right;\">\n",
       "      <th></th>\n",
       "      <th>CustomerKey</th>\n",
       "      <th>GeographyKey</th>\n",
       "      <th>BirthDate</th>\n",
       "      <th>MaritalStatus</th>\n",
       "      <th>Gender</th>\n",
       "      <th>YearlyIncome</th>\n",
       "      <th>TotalChildren</th>\n",
       "      <th>NumberChildrenAtHome</th>\n",
       "      <th>EnglishEducation</th>\n",
       "      <th>EnglishOccupation</th>\n",
       "      <th>...</th>\n",
       "      <th>DaysToManufacture</th>\n",
       "      <th>ProductLine</th>\n",
       "      <th>DealerPrice</th>\n",
       "      <th>Class</th>\n",
       "      <th>Style</th>\n",
       "      <th>ModelName</th>\n",
       "      <th>EnglishDescription</th>\n",
       "      <th>StartDate</th>\n",
       "      <th>EndDate</th>\n",
       "      <th>Status</th>\n",
       "    </tr>\n",
       "  </thead>\n",
       "  <tbody>\n",
       "    <tr>\n",
       "      <th>0</th>\n",
       "      <td>11000</td>\n",
       "      <td>26</td>\n",
       "      <td>1971-10-06</td>\n",
       "      <td>M</td>\n",
       "      <td>M</td>\n",
       "      <td>90000.0</td>\n",
       "      <td>2</td>\n",
       "      <td>0</td>\n",
       "      <td>Bachelors</td>\n",
       "      <td>Professional</td>\n",
       "      <td>...</td>\n",
       "      <td>4</td>\n",
       "      <td>M</td>\n",
       "      <td>2039.994</td>\n",
       "      <td>H</td>\n",
       "      <td>U</td>\n",
       "      <td>Mountain-100</td>\n",
       "      <td>Top-of-the-line competition mountain bike. Per...</td>\n",
       "      <td>2011-07-01</td>\n",
       "      <td>2007-12-28</td>\n",
       "      <td>None</td>\n",
       "    </tr>\n",
       "    <tr>\n",
       "      <th>1</th>\n",
       "      <td>11000</td>\n",
       "      <td>26</td>\n",
       "      <td>1971-10-06</td>\n",
       "      <td>M</td>\n",
       "      <td>M</td>\n",
       "      <td>90000.0</td>\n",
       "      <td>2</td>\n",
       "      <td>0</td>\n",
       "      <td>Bachelors</td>\n",
       "      <td>Professional</td>\n",
       "      <td>...</td>\n",
       "      <td>4</td>\n",
       "      <td>M</td>\n",
       "      <td>1391.994</td>\n",
       "      <td>H</td>\n",
       "      <td>U</td>\n",
       "      <td>Mountain-200</td>\n",
       "      <td>Serious back-country riding. Perfect for all l...</td>\n",
       "      <td>2013-07-01</td>\n",
       "      <td>NaT</td>\n",
       "      <td>Current</td>\n",
       "    </tr>\n",
       "  </tbody>\n",
       "</table>\n",
       "<p>2 rows × 65 columns</p>\n",
       "</div>"
      ],
      "text/plain": [
       "   CustomerKey  GeographyKey   BirthDate MaritalStatus Gender  YearlyIncome  \\\n",
       "0        11000            26  1971-10-06             M      M       90000.0   \n",
       "1        11000            26  1971-10-06             M      M       90000.0   \n",
       "\n",
       "   TotalChildren  NumberChildrenAtHome EnglishEducation EnglishOccupation  \\\n",
       "0              2                     0        Bachelors      Professional   \n",
       "1              2                     0        Bachelors      Professional   \n",
       "\n",
       "   ... DaysToManufacture  ProductLine DealerPrice Class  Style     ModelName  \\\n",
       "0  ...                 4           M     2039.994    H      U   Mountain-100   \n",
       "1  ...                 4           M     1391.994    H      U   Mountain-200   \n",
       "\n",
       "                                  EnglishDescription  StartDate    EndDate  \\\n",
       "0  Top-of-the-line competition mountain bike. Per... 2011-07-01 2007-12-28   \n",
       "1  Serious back-country riding. Perfect for all l... 2013-07-01        NaT   \n",
       "\n",
       "    Status  \n",
       "0     None  \n",
       "1  Current  \n",
       "\n",
       "[2 rows x 65 columns]"
      ]
     },
     "execution_count": 31,
     "metadata": {},
     "output_type": "execute_result"
    }
   ],
   "source": [
    "main.head(2)"
   ]
  },
  {
   "cell_type": "code",
   "execution_count": 39,
   "id": "8801c5e3",
   "metadata": {
    "scrolled": true
   },
   "outputs": [
    {
     "data": {
      "text/plain": [
       "CustomerKey               int64\n",
       "GeographyKey              int64\n",
       "BirthDate                object\n",
       "MaritalStatus            object\n",
       "Gender                   object\n",
       "YearlyIncome            float64\n",
       "TotalChildren             int64\n",
       "NumberChildrenAtHome      int64\n",
       "EnglishEducation         object\n",
       "dtype: object"
      ]
     },
     "execution_count": 39,
     "metadata": {},
     "output_type": "execute_result"
    }
   ],
   "source": [
    "main.dtypes[0:9] # run through 10 at a time and clean u as necessary"
   ]
  },
  {
   "cell_type": "code",
   "execution_count": 42,
   "id": "44c64756",
   "metadata": {},
   "outputs": [],
   "source": [
    "main['BirthDate']=pd.to_datetime(main['BirthDate'])\n",
    "\n",
    "cols = ['MaritalStatus', 'Gender', 'EnglishEducation']\n",
    "main[cols] = main[cols].astype('category')"
   ]
  },
  {
   "cell_type": "code",
   "execution_count": 44,
   "id": "f6e21f41",
   "metadata": {},
   "outputs": [
    {
     "data": {
      "text/plain": [
       "HouseOwnerFlag       object\n",
       "NumberCarsOwned       int64\n",
       "DateFirstPurchase    object\n",
       "CommuteDistance      object\n",
       "ProductKey            int64\n",
       "OrderDateKey          int64\n",
       "DueDateKey            int64\n",
       "ShipDateKey           int64\n",
       "CustomerKey           int64\n",
       "dtype: object"
      ]
     },
     "execution_count": 44,
     "metadata": {},
     "output_type": "execute_result"
    }
   ],
   "source": [
    "main.dtypes[10:19]"
   ]
  },
  {
   "cell_type": "code",
   "execution_count": 45,
   "id": "cfc96ab6",
   "metadata": {},
   "outputs": [],
   "source": [
    "main['DateFirstPurchase']=pd.to_datetime(main['DateFirstPurchase'])\n",
    "\n",
    "cols = ['HouseOwnerFlag', 'CommuteDistance']\n",
    "main[cols] = main[cols].astype('category')"
   ]
  },
  {
   "cell_type": "code",
   "execution_count": null,
   "id": "a8da16e2",
   "metadata": {},
   "outputs": [],
   "source": []
  },
  {
   "cell_type": "code",
   "execution_count": 46,
   "id": "ba6a426f",
   "metadata": {},
   "outputs": [
    {
     "data": {
      "text/plain": [
       "CurrencyKey               int64\n",
       "SalesTerritoryKey         int64\n",
       "SalesOrderNumber         object\n",
       "SalesOrderLineNumber      int64\n",
       "RevisionNumber            int64\n",
       "OrderQuantity             int64\n",
       "UnitPrice               float64\n",
       "ExtendedAmount          float64\n",
       "UnitPriceDiscountPct    float64\n",
       "dtype: object"
      ]
     },
     "execution_count": 46,
     "metadata": {},
     "output_type": "execute_result"
    }
   ],
   "source": [
    "main.dtypes[20:29]"
   ]
  },
  {
   "cell_type": "code",
   "execution_count": 47,
   "id": "818d720f",
   "metadata": {},
   "outputs": [],
   "source": [
    "main['SalesOrderNumber'] = main['SalesOrderNumber'].astype('string')"
   ]
  },
  {
   "cell_type": "code",
   "execution_count": 48,
   "id": "ebdac898",
   "metadata": {},
   "outputs": [
    {
     "data": {
      "text/plain": [
       "ProductStandardCost             float64\n",
       "TotalProductCost                float64\n",
       "SalesAmount                     float64\n",
       "TaxAmt                          float64\n",
       "Freight                         float64\n",
       "CarrierTrackingNumber            object\n",
       "CustomerPONumber                 object\n",
       "OrderDate                datetime64[ns]\n",
       "DueDate                  datetime64[ns]\n",
       "dtype: object"
      ]
     },
     "execution_count": 48,
     "metadata": {},
     "output_type": "execute_result"
    }
   ],
   "source": [
    "main.dtypes[30:39]"
   ]
  },
  {
   "cell_type": "code",
   "execution_count": 54,
   "id": "26cd25a4",
   "metadata": {},
   "outputs": [],
   "source": [
    "main = main.drop(columns = ['CarrierTrackingNumber','CustomerPONumber'] )"
   ]
  },
  {
   "cell_type": "code",
   "execution_count": 55,
   "id": "da6e97df",
   "metadata": {},
   "outputs": [
    {
     "data": {
      "text/plain": [
       "ProductSubcategoryKey      int64\n",
       "WeightUnitMeasureCode     object\n",
       "SizeUnitMeasureCode       object\n",
       "EnglishProductName        object\n",
       "StandardCost             float64\n",
       "FinishedGoodsFlag           bool\n",
       "Color                     object\n",
       "SafetyStockLevel           int64\n",
       "ReorderPoint               int64\n",
       "dtype: object"
      ]
     },
     "execution_count": 55,
     "metadata": {},
     "output_type": "execute_result"
    }
   ],
   "source": [
    "main.dtypes[40:49]"
   ]
  },
  {
   "cell_type": "code",
   "execution_count": 57,
   "id": "77586636",
   "metadata": {},
   "outputs": [],
   "source": [
    "# drop stock information - not intending to model at thisstage\n",
    "# also 'fine' details about products\n",
    "drop = ['WeightUnitMeasureCode',\n",
    "        'SizeUnitMeasureCode',\n",
    "        'SafetyStockLevel',\n",
    "        'ReorderPoint']\n",
    "\n",
    "main = main.drop(columns = drop)\n",
    "main['EnglishProductName'] = main['EnglishProductName'].astype('string')\n",
    "    \n"
   ]
  },
  {
   "cell_type": "code",
   "execution_count": 58,
   "id": "f92256eb",
   "metadata": {},
   "outputs": [
    {
     "data": {
      "text/plain": [
       "OrderDate                datetime64[ns]\n",
       "DueDate                  datetime64[ns]\n",
       "ShipDate                 datetime64[ns]\n",
       "ProductKey                        int64\n",
       "ProductAlternateKey              object\n",
       "ProductSubcategoryKey             int64\n",
       "EnglishProductName               string\n",
       "StandardCost                    float64\n",
       "FinishedGoodsFlag                  bool\n",
       "Color                            object\n",
       "dtype: object"
      ]
     },
     "execution_count": 58,
     "metadata": {},
     "output_type": "execute_result"
    }
   ],
   "source": [
    "main.dtypes[35:45]"
   ]
  },
  {
   "cell_type": "code",
   "execution_count": 62,
   "id": "afa61ff1",
   "metadata": {},
   "outputs": [],
   "source": [
    "main = main.drop(columns = 'ProductAlternateKey')\n",
    "main['Color'] = main['Color'].astype('category')"
   ]
  },
  {
   "cell_type": "code",
   "execution_count": 69,
   "id": "ab2177c8",
   "metadata": {},
   "outputs": [
    {
     "data": {
      "text/plain": [
       "[dtype('int64'),\n",
       " dtype('int64'),\n",
       " dtype('<M8[ns]'),\n",
       " CategoricalDtype(categories=['M', 'S'], ordered=False),\n",
       " CategoricalDtype(categories=['F', 'M'], ordered=False),\n",
       " dtype('float64'),\n",
       " dtype('int64'),\n",
       " dtype('int64'),\n",
       " CategoricalDtype(categories=['Bachelors', 'Graduate Degree', 'High School',\n",
       "                   'Partial College', 'Partial High School'],\n",
       " , ordered=False),\n",
       " dtype('O'),\n",
       " CategoricalDtype(categories=['0', '1'], ordered=False),\n",
       " dtype('int64'),\n",
       " dtype('<M8[ns]'),\n",
       " CategoricalDtype(categories=['0-1 Miles', '1-2 Miles', '10+ Miles', '2-5 Miles',\n",
       "                   '5-10 Miles'],\n",
       " , ordered=False),\n",
       " dtype('int64'),\n",
       " dtype('int64'),\n",
       " dtype('int64'),\n",
       " dtype('int64'),\n",
       " dtype('int64'),\n",
       " dtype('int64'),\n",
       " dtype('int64'),\n",
       " dtype('int64'),\n",
       " StringDtype,\n",
       " dtype('int64'),\n",
       " dtype('int64'),\n",
       " dtype('int64'),\n",
       " dtype('float64'),\n",
       " dtype('float64'),\n",
       " dtype('float64'),\n",
       " dtype('float64'),\n",
       " dtype('float64'),\n",
       " dtype('float64'),\n",
       " dtype('float64'),\n",
       " dtype('float64'),\n",
       " dtype('float64'),\n",
       " dtype('<M8[ns]'),\n",
       " dtype('<M8[ns]'),\n",
       " dtype('<M8[ns]'),\n",
       " dtype('int64'),\n",
       " dtype('int64'),\n",
       " StringDtype,\n",
       " dtype('float64'),\n",
       " dtype('bool'),\n",
       " CategoricalDtype(categories=['Black', 'Blue', 'Multi', 'NA', 'Red', 'Silver', 'White',\n",
       "                   'Yellow'],\n",
       " , ordered=False),\n",
       " dtype('float64'),\n",
       " dtype('O'),\n",
       " dtype('O'),\n",
       " dtype('float64'),\n",
       " dtype('int64'),\n",
       " dtype('O'),\n",
       " dtype('float64'),\n",
       " dtype('O'),\n",
       " dtype('O'),\n",
       " dtype('O'),\n",
       " dtype('O'),\n",
       " dtype('<M8[ns]'),\n",
       " dtype('<M8[ns]'),\n",
       " dtype('O')]"
      ]
     },
     "execution_count": 69,
     "metadata": {},
     "output_type": "execute_result"
    }
   ],
   "source": [
    "list(main.dtypes)"
   ]
  },
  {
   "cell_type": "code",
   "execution_count": 74,
   "id": "687b88f5",
   "metadata": {},
   "outputs": [
    {
     "name": "stdout",
     "output_type": "stream",
     "text": [
      "<class 'pandas.core.frame.DataFrame'>\n",
      "RangeIndex: 60398 entries, 0 to 60397\n",
      "Data columns (total 58 columns):\n",
      " #   Column                 Non-Null Count  Dtype         \n",
      "---  ------                 --------------  -----         \n",
      " 0   CustomerKey            60398 non-null  int64         \n",
      " 1   GeographyKey           60398 non-null  int64         \n",
      " 2   BirthDate              60398 non-null  datetime64[ns]\n",
      " 3   MaritalStatus          60398 non-null  category      \n",
      " 4   Gender                 60398 non-null  category      \n",
      " 5   YearlyIncome           60398 non-null  float64       \n",
      " 6   TotalChildren          60398 non-null  int64         \n",
      " 7   NumberChildrenAtHome   60398 non-null  int64         \n",
      " 8   EnglishEducation       60398 non-null  category      \n",
      " 9   EnglishOccupation      60398 non-null  object        \n",
      " 10  HouseOwnerFlag         60398 non-null  category      \n",
      " 11  NumberCarsOwned        60398 non-null  int64         \n",
      " 12  DateFirstPurchase      60398 non-null  datetime64[ns]\n",
      " 13  CommuteDistance        60398 non-null  category      \n",
      " 14  ProductKey             60398 non-null  int64         \n",
      " 15  OrderDateKey           60398 non-null  int64         \n",
      " 16  DueDateKey             60398 non-null  int64         \n",
      " 17  ShipDateKey            60398 non-null  int64         \n",
      " 18  CustomerKey            60398 non-null  int64         \n",
      " 19  PromotionKey           60398 non-null  int64         \n",
      " 20  CurrencyKey            60398 non-null  int64         \n",
      " 21  SalesTerritoryKey      60398 non-null  int64         \n",
      " 22  SalesOrderNumber       60398 non-null  string        \n",
      " 23  SalesOrderLineNumber   60398 non-null  int64         \n",
      " 24  RevisionNumber         60398 non-null  int64         \n",
      " 25  OrderQuantity          60398 non-null  int64         \n",
      " 26  UnitPrice              60398 non-null  float64       \n",
      " 27  ExtendedAmount         60398 non-null  float64       \n",
      " 28  UnitPriceDiscountPct   60398 non-null  float64       \n",
      " 29  DiscountAmount         60398 non-null  float64       \n",
      " 30  ProductStandardCost    60398 non-null  float64       \n",
      " 31  TotalProductCost       60398 non-null  float64       \n",
      " 32  SalesAmount            60398 non-null  float64       \n",
      " 33  TaxAmt                 60398 non-null  float64       \n",
      " 34  Freight                60398 non-null  float64       \n",
      " 35  OrderDate              60398 non-null  datetime64[ns]\n",
      " 36  DueDate                60398 non-null  datetime64[ns]\n",
      " 37  ShipDate               60398 non-null  datetime64[ns]\n",
      " 38  ProductKey             60398 non-null  int64         \n",
      " 39  ProductSubcategoryKey  60398 non-null  int64         \n",
      " 40  EnglishProductName     60398 non-null  string        \n",
      " 41  StandardCost           60398 non-null  float64       \n",
      " 42  FinishedGoodsFlag      60398 non-null  bool          \n",
      " 43  Color                  60398 non-null  category      \n",
      " 44  ListPrice              60398 non-null  float64       \n",
      " 45  Size                   22849 non-null  object        \n",
      " 46  SizeRange              60398 non-null  object        \n",
      " 47  Weight                 15205 non-null  float64       \n",
      " 48  DaysToManufacture      60398 non-null  int64         \n",
      " 49  ProductLine            60398 non-null  object        \n",
      " 50  DealerPrice            60398 non-null  float64       \n",
      " 51  Class                  21452 non-null  object        \n",
      " 52  Style                  24306 non-null  object        \n",
      " 53  ModelName              60398 non-null  object        \n",
      " 54  EnglishDescription     60398 non-null  object        \n",
      " 55  StartDate              60398 non-null  datetime64[ns]\n",
      " 56  EndDate                5428 non-null   datetime64[ns]\n",
      " 57  Status                 54970 non-null  object        \n",
      "dtypes: bool(1), category(6), datetime64[ns](7), float64(14), int64(19), object(9), string(2)\n",
      "memory usage: 23.9+ MB\n"
     ]
    }
   ],
   "source": [
    "main.shape\n",
    "main.info()"
   ]
  },
  {
   "cell_type": "markdown",
   "id": "1b3f37b5",
   "metadata": {},
   "source": [
    "A number of columns remain as object. Will ignore for now.\n",
    "\n",
    "Save main dataset for modelling and further processing"
   ]
  },
  {
   "cell_type": "code",
   "execution_count": 76,
   "id": "5f6befb2",
   "metadata": {},
   "outputs": [],
   "source": [
    "main.to_pickle('main_df.pkl')"
   ]
  },
  {
   "cell_type": "code",
   "execution_count": null,
   "id": "e6d3b894",
   "metadata": {},
   "outputs": [],
   "source": []
  }
 ],
 "metadata": {
  "kernelspec": {
   "display_name": "Python 3",
   "language": "python",
   "name": "python3"
  },
  "language_info": {
   "codemirror_mode": {
    "name": "ipython",
    "version": 3
   },
   "file_extension": ".py",
   "mimetype": "text/x-python",
   "name": "python",
   "nbconvert_exporter": "python",
   "pygments_lexer": "ipython3",
   "version": "3.8.8"
  }
 },
 "nbformat": 4,
 "nbformat_minor": 5
}
