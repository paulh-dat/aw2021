{
 "cells": [
  {
   "cell_type": "code",
   "execution_count": 11,
   "id": "601da424",
   "metadata": {},
   "outputs": [
    {
     "name": "stderr",
     "output_type": "stream",
     "text": [
      "Matplotlib is building the font cache; this may take a moment.\n"
     ]
    },
    {
     "name": "stdout",
     "output_type": "stream",
     "text": [
      "<class 'pandas.core.frame.DataFrame'>\n",
      "RangeIndex: 60398 entries, 0 to 60397\n",
      "Data columns (total 58 columns):\n",
      " #   Column                 Non-Null Count  Dtype         \n",
      "---  ------                 --------------  -----         \n",
      " 0   CustomerKey            60398 non-null  int64         \n",
      " 1   GeographyKey           60398 non-null  int64         \n",
      " 2   BirthDate              60398 non-null  datetime64[ns]\n",
      " 3   MaritalStatus          60398 non-null  category      \n",
      " 4   Gender                 60398 non-null  category      \n",
      " 5   YearlyIncome           60398 non-null  float64       \n",
      " 6   TotalChildren          60398 non-null  int64         \n",
      " 7   NumberChildrenAtHome   60398 non-null  int64         \n",
      " 8   EnglishEducation       60398 non-null  category      \n",
      " 9   EnglishOccupation      60398 non-null  object        \n",
      " 10  HouseOwnerFlag         60398 non-null  category      \n",
      " 11  NumberCarsOwned        60398 non-null  int64         \n",
      " 12  DateFirstPurchase      60398 non-null  datetime64[ns]\n",
      " 13  CommuteDistance        60398 non-null  category      \n",
      " 14  ProductKey             60398 non-null  int64         \n",
      " 15  OrderDateKey           60398 non-null  int64         \n",
      " 16  DueDateKey             60398 non-null  int64         \n",
      " 17  ShipDateKey            60398 non-null  int64         \n",
      " 18  CustomerKey            60398 non-null  int64         \n",
      " 19  PromotionKey           60398 non-null  int64         \n",
      " 20  CurrencyKey            60398 non-null  int64         \n",
      " 21  SalesTerritoryKey      60398 non-null  int64         \n",
      " 22  SalesOrderNumber       60398 non-null  string        \n",
      " 23  SalesOrderLineNumber   60398 non-null  int64         \n",
      " 24  RevisionNumber         60398 non-null  int64         \n",
      " 25  OrderQuantity          60398 non-null  int64         \n",
      " 26  UnitPrice              60398 non-null  float64       \n",
      " 27  ExtendedAmount         60398 non-null  float64       \n",
      " 28  UnitPriceDiscountPct   60398 non-null  float64       \n",
      " 29  DiscountAmount         60398 non-null  float64       \n",
      " 30  ProductStandardCost    60398 non-null  float64       \n",
      " 31  TotalProductCost       60398 non-null  float64       \n",
      " 32  SalesAmount            60398 non-null  float64       \n",
      " 33  TaxAmt                 60398 non-null  float64       \n",
      " 34  Freight                60398 non-null  float64       \n",
      " 35  OrderDate              60398 non-null  datetime64[ns]\n",
      " 36  DueDate                60398 non-null  datetime64[ns]\n",
      " 37  ShipDate               60398 non-null  datetime64[ns]\n",
      " 38  ProductKey             60398 non-null  int64         \n",
      " 39  ProductSubcategoryKey  60398 non-null  int64         \n",
      " 40  EnglishProductName     60398 non-null  string        \n",
      " 41  StandardCost           60398 non-null  float64       \n",
      " 42  FinishedGoodsFlag      60398 non-null  bool          \n",
      " 43  Color                  60398 non-null  category      \n",
      " 44  ListPrice              60398 non-null  float64       \n",
      " 45  Size                   22849 non-null  object        \n",
      " 46  SizeRange              60398 non-null  object        \n",
      " 47  Weight                 15205 non-null  float64       \n",
      " 48  DaysToManufacture      60398 non-null  int64         \n",
      " 49  ProductLine            60398 non-null  object        \n",
      " 50  DealerPrice            60398 non-null  float64       \n",
      " 51  Class                  21452 non-null  object        \n",
      " 52  Style                  24306 non-null  object        \n",
      " 53  ModelName              60398 non-null  object        \n",
      " 54  EnglishDescription     60398 non-null  object        \n",
      " 55  StartDate              60398 non-null  datetime64[ns]\n",
      " 56  EndDate                5428 non-null   datetime64[ns]\n",
      " 57  Status                 54970 non-null  object        \n",
      "dtypes: bool(1), category(6), datetime64[ns](7), float64(14), int64(19), object(9), string(2)\n",
      "memory usage: 23.9+ MB\n"
     ]
    }
   ],
   "source": [
    "# Load main dataframe\n",
    "\n",
    "import pandas as pd\n",
    "import numpy as np\n",
    "import matplotlib.pyplot as plt\n",
    "\n",
    "cust = pd.read_pickle('main_df.pkl')\n",
    "\n",
    "cust.info()"
   ]
  },
  {
   "cell_type": "code",
   "execution_count": 30,
   "id": "e12ce748",
   "metadata": {},
   "outputs": [],
   "source": [
    "# remove duplicate columns (same name)\n",
    "cust = cust.loc[:,~cust.columns.duplicated()]\n",
    "\n"
   ]
  },
  {
   "cell_type": "code",
   "execution_count": 10,
   "id": "9d29d6dd",
   "metadata": {},
   "outputs": [
    {
     "data": {
      "text/html": [
       "<div>\n",
       "<style scoped>\n",
       "    .dataframe tbody tr th:only-of-type {\n",
       "        vertical-align: middle;\n",
       "    }\n",
       "\n",
       "    .dataframe tbody tr th {\n",
       "        vertical-align: top;\n",
       "    }\n",
       "\n",
       "    .dataframe thead th {\n",
       "        text-align: right;\n",
       "    }\n",
       "</style>\n",
       "<table border=\"1\" class=\"dataframe\">\n",
       "  <thead>\n",
       "    <tr style=\"text-align: right;\">\n",
       "      <th></th>\n",
       "      <th>CustomerKey</th>\n",
       "      <th>SalesAmount</th>\n",
       "    </tr>\n",
       "  </thead>\n",
       "  <tbody>\n",
       "    <tr>\n",
       "      <th>0</th>\n",
       "      <td>11000</td>\n",
       "      <td>8248.99</td>\n",
       "    </tr>\n",
       "    <tr>\n",
       "      <th>1</th>\n",
       "      <td>11001</td>\n",
       "      <td>6383.88</td>\n",
       "    </tr>\n",
       "    <tr>\n",
       "      <th>2</th>\n",
       "      <td>11002</td>\n",
       "      <td>8114.04</td>\n",
       "    </tr>\n",
       "    <tr>\n",
       "      <th>3</th>\n",
       "      <td>11003</td>\n",
       "      <td>8139.29</td>\n",
       "    </tr>\n",
       "    <tr>\n",
       "      <th>4</th>\n",
       "      <td>11004</td>\n",
       "      <td>8196.01</td>\n",
       "    </tr>\n",
       "  </tbody>\n",
       "</table>\n",
       "</div>"
      ],
      "text/plain": [
       "   CustomerKey  SalesAmount\n",
       "0        11000      8248.99\n",
       "1        11001      6383.88\n",
       "2        11002      8114.04\n",
       "3        11003      8139.29\n",
       "4        11004      8196.01"
      ]
     },
     "execution_count": 10,
     "metadata": {},
     "output_type": "execute_result"
    }
   ],
   "source": [
    "# group by customer - total sales value per customer\n",
    "# view cust sales value distribution\n",
    "# view sales value by decile of cust sales value\n",
    "\n",
    "custValDist = cust.groupby(['CustomerKey'], as_index=False)['SalesAmount'].sum()\n",
    "\n",
    "custValDist.head()"
   ]
  },
  {
   "cell_type": "code",
   "execution_count": 15,
   "id": "879b56f9",
   "metadata": {},
   "outputs": [
    {
     "data": {
      "text/plain": [
       "array([[<AxesSubplot:title={'center':'SalesAmount'}>]], dtype=object)"
      ]
     },
     "execution_count": 15,
     "metadata": {},
     "output_type": "execute_result"
    },
    {
     "data": {
      "image/png": "[encoded data removed]",
      "text/plain": [
       "<Figure size 432x288 with 1 Axes>"
      ]
     },
     "metadata": {
      "needs_background": "light"
     },
     "output_type": "display_data"
    }
   ],
   "source": [
    "# plot histogram\n",
    "\n",
    "custValDist.hist(column = 'SalesAmount')"
   ]
  },
  {
   "cell_type": "code",
   "execution_count": 17,
   "id": "aa41f96a",
   "metadata": {},
   "outputs": [
    {
     "data": {
      "text/plain": [
       "array([[<AxesSubplot:title={'center':'SalesAmount'}>]], dtype=object)"
      ]
     },
     "execution_count": 17,
     "metadata": {},
     "output_type": "execute_result"
    },
    {
     "data": {
      "image/png": "[encoded data removed]",
      "text/plain": [
       "<Figure size 432x288 with 1 Axes>"
      ]
     },
     "metadata": {
      "needs_background": "light"
     },
     "output_type": "display_data"
    }
   ],
   "source": [
    "cust.hist(column='SalesAmount')\n",
    "# distribution of sales value (by item)"
   ]
  },
  {
   "cell_type": "code",
   "execution_count": 19,
   "id": "b2692ae7",
   "metadata": {},
   "outputs": [],
   "source": [
    "# to look at thevalue by decile of customer sales value ie how much are 'high value' customers\n",
    "# worth in aggregate - calculate deciles, then group by decile and sum\n",
    "\n",
    "custValDist['Decile'] = pd.qcut(custValDist['SalesAmount'], 10).values.codes"
   ]
  },
  {
   "cell_type": "code",
   "execution_count": 24,
   "id": "a23db7d7",
   "metadata": {},
   "outputs": [
    {
     "data": {
      "image/png": "[encoded data removed]",
      "text/plain": [
       "<Figure size 432x288 with 1 Axes>"
      ]
     },
     "metadata": {
      "needs_background": "light"
     },
     "output_type": "display_data"
    }
   ],
   "source": [
    "import matplotlib.ticker as mtick\n",
    "custValDist.groupby('Decile').sum()['SalesAmount'].plot.bar()\n",
    "plt.xticks(rotation=0)\n",
    "\n",
    "plt.tight_layout()\n",
    "plt.show()\n",
    "\n",
    "# considerable sale value is concentrated in upper decile customers\n",
    "# top 2 deciles accounting for $20M."
   ]
  },
  {
   "cell_type": "code",
   "execution_count": 54,
   "id": "b54f89b6",
   "metadata": {},
   "outputs": [],
   "source": [
    "# we will try a decision tree - regression - to model customers using customer characteristics.\n",
    "\n",
    "# features\n",
    "\n",
    "Features = cust.columns[np.r_[0,1,3,4:8,10,11,13,20]]\n",
    "Label = 'Decile'\n",
    "# need one row per customer. re-do merge back of custValDist to include total sales value. Then use distinct customer key values\n",
    "\n",
    "data = pd.merge(custValDist, cust[Features], how='left')\n",
    "\n",
    "# de-duplicate\n",
    "\n",
    "data = data.drop_duplicates(subset = ['CustomerKey'])"
   ]
  },
  {
   "cell_type": "code",
   "execution_count": 62,
   "id": "ce4c372e",
   "metadata": {},
   "outputs": [],
   "source": [
    "# preprocess to one hot encode categorical variables\n",
    "data = pd.get_dummies(data)"
   ]
  },
  {
   "cell_type": "code",
   "execution_count": 67,
   "id": "1560440e",
   "metadata": {},
   "outputs": [],
   "source": [
    "from sklearn.model_selection import cross_val_score\n",
    "from sklearn.tree import DecisionTreeRegressor\n",
    "from sklearn.model_selection import train_test_split\n",
    "\n",
    "\n",
    "# features\n",
    "X = data.drop(columns=['CustomerKey', 'Decile'])\n",
    "# labels\n",
    "\n",
    "y = data['Decile']\n",
    "\n",
    "# split to train and test data\n",
    "X_train, X_test, y_train, y_test = train_test_split(X, y)\n"
   ]
  },
  {
   "cell_type": "code",
   "execution_count": 68,
   "id": "7c650f1d",
   "metadata": {},
   "outputs": [
    {
     "data": {
      "text/plain": [
       "DecisionTreeRegressor(max_depth=4, random_state=6)"
      ]
     },
     "execution_count": 68,
     "metadata": {},
     "output_type": "execute_result"
    }
   ],
   "source": [
    "# create a regressor object\n",
    "regressor = DecisionTreeRegressor(random_state = 6,\n",
    "                                  max_depth = 4)\n",
    " \n",
    "# fit the regressor with X and Y data\n",
    "regressor.fit(X_train, y_train)"
   ]
  },
  {
   "cell_type": "code",
   "execution_count": 70,
   "id": "ea70343f",
   "metadata": {},
   "outputs": [
    {
     "data": {
      "text/plain": [
       "0.9999743053340581"
      ]
     },
     "execution_count": 70,
     "metadata": {},
     "output_type": "execute_result"
    }
   ],
   "source": [
    "# predict test values\n",
    "\n",
    "regressor.score(X_test, y_test)"
   ]
  },
  {
   "cell_type": "markdown",
   "id": "f9869df0",
   "metadata": {},
   "source": [
    "This is an incredibly high r2 value (effectively 1)\n",
    "It says that the model can totally predict the decile total sales valueofa customer based on their demographics.\n",
    "\n",
    "(Personally, I would look for data leakage, although none is immediately apparent. Alternatively, to the pub for drinks!)\n",
    "\n",
    "Lets look at some details of the model"
   ]
  },
  {
   "cell_type": "code",
   "execution_count": 72,
   "id": "8a9a2fd5",
   "metadata": {},
   "outputs": [
    {
     "name": "stdout",
     "output_type": "stream",
     "text": [
      "Feature: 0, Score: 1.00000\n",
      "Feature: 1, Score: 0.00000\n",
      "Feature: 2, Score: 0.00000\n",
      "Feature: 3, Score: 0.00000\n",
      "Feature: 4, Score: 0.00000\n",
      "Feature: 5, Score: 0.00000\n",
      "Feature: 6, Score: 0.00000\n",
      "Feature: 7, Score: 0.00000\n",
      "Feature: 8, Score: 0.00000\n",
      "Feature: 9, Score: 0.00000\n",
      "Feature: 10, Score: 0.00000\n",
      "Feature: 11, Score: 0.00000\n",
      "Feature: 12, Score: 0.00000\n",
      "Feature: 13, Score: 0.00000\n",
      "Feature: 14, Score: 0.00000\n",
      "Feature: 15, Score: 0.00000\n",
      "Feature: 16, Score: 0.00000\n",
      "Feature: 17, Score: 0.00000\n"
     ]
    },
    {
     "data": {
      "image/png": "[encoded data removed]",
      "text/plain": [
       "<Figure size 432x288 with 1 Axes>"
      ]
     },
     "metadata": {
      "needs_background": "light"
     },
     "output_type": "display_data"
    }
   ],
   "source": [
    "# feature importance\n",
    "\n",
    "importance = regressor.feature_importances_\n",
    "# summarize feature importance\n",
    "for i,v in enumerate(importance):\n",
    "\tprint('Feature: %0d, Score: %.5f' % (i,v))\n",
    "# plot feature importance\n",
    "plt.bar([x for x in range(len(importance))], importance)\n",
    "plt.show()"
   ]
  },
  {
   "cell_type": "code",
   "execution_count": 74,
   "id": "91e6f3ca",
   "metadata": {},
   "outputs": [
    {
     "name": "stdout",
     "output_type": "stream",
     "text": [
      "<class 'pandas.core.frame.DataFrame'>\n",
      "Int64Index: 18484 entries, 0 to 60397\n",
      "Data columns (total 18 columns):\n",
      " #   Column                      Non-Null Count  Dtype  \n",
      "---  ------                      --------------  -----  \n",
      " 0   SalesAmount                 18484 non-null  float64\n",
      " 1   GeographyKey                18484 non-null  int64  \n",
      " 2   YearlyIncome                18484 non-null  float64\n",
      " 3   TotalChildren               18484 non-null  int64  \n",
      " 4   NumberChildrenAtHome        18484 non-null  int64  \n",
      " 5   NumberCarsOwned             18484 non-null  int64  \n",
      " 6   SalesTerritoryKey           18484 non-null  int64  \n",
      " 7   MaritalStatus_M             18484 non-null  uint8  \n",
      " 8   MaritalStatus_S             18484 non-null  uint8  \n",
      " 9   Gender_F                    18484 non-null  uint8  \n",
      " 10  Gender_M                    18484 non-null  uint8  \n",
      " 11  HouseOwnerFlag_0            18484 non-null  uint8  \n",
      " 12  HouseOwnerFlag_1            18484 non-null  uint8  \n",
      " 13  CommuteDistance_0-1 Miles   18484 non-null  uint8  \n",
      " 14  CommuteDistance_1-2 Miles   18484 non-null  uint8  \n",
      " 15  CommuteDistance_10+ Miles   18484 non-null  uint8  \n",
      " 16  CommuteDistance_2-5 Miles   18484 non-null  uint8  \n",
      " 17  CommuteDistance_5-10 Miles  18484 non-null  uint8  \n",
      "dtypes: float64(2), int64(5), uint8(11)\n",
      "memory usage: 1.3 MB\n"
     ]
    }
   ],
   "source": [
    "# feature 0 is doing all the work!\n",
    "\n",
    "X.info() # sales amount - useful in predicting decile sales value!\n",
    "\n",
    "# remove"
   ]
  },
  {
   "cell_type": "code",
   "execution_count": 87,
   "id": "a9ab530f",
   "metadata": {},
   "outputs": [
    {
     "data": {
      "text/plain": [
       "DecisionTreeRegressor(max_depth=9, random_state=6)"
      ]
     },
     "execution_count": 87,
     "metadata": {},
     "output_type": "execute_result"
    }
   ],
   "source": [
    "X = X.drop(columns = 'SalesAmount')\n",
    "\n",
    "# split to train and test data\n",
    "X_train, X_test, y_train, y_test = train_test_split(X, y)\n",
    "\n",
    "# create a regressor object\n",
    "model2 = DecisionTreeRegressor(random_state = 6,\n",
    "                                  max_depth = 9)\n",
    " \n",
    "# fit the regressor with X and Y data\n",
    "model2.fit(X_train, y_train)\n"
   ]
  },
  {
   "cell_type": "code",
   "execution_count": 88,
   "id": "7c12f2e7",
   "metadata": {},
   "outputs": [
    {
     "data": {
      "text/plain": [
       "0.25288146246864773"
      ]
     },
     "execution_count": 88,
     "metadata": {},
     "output_type": "execute_result"
    }
   ],
   "source": [
    "# predict test values\n",
    "\n",
    "model2.score(X_test, y_test)\n",
    "\n",
    "# significantly poorer outcome this time.\n",
    "#ordinarily, would cross validate with range of tree depths\n",
    "# to optimise. By inspection and manually iteration, depth = 9\n",
    "# found to be best"
   ]
  },
  {
   "cell_type": "code",
   "execution_count": 89,
   "id": "7aaafe50",
   "metadata": {},
   "outputs": [
    {
     "name": "stdout",
     "output_type": "stream",
     "text": [
      "Feature: 0, Score: 0.21336\n",
      "Feature: 1, Score: 0.18134\n",
      "Feature: 2, Score: 0.12362\n",
      "Feature: 3, Score: 0.10024\n",
      "Feature: 4, Score: 0.15036\n",
      "Feature: 5, Score: 0.00504\n",
      "Feature: 6, Score: 0.02088\n",
      "Feature: 7, Score: 0.03600\n",
      "Feature: 8, Score: 0.00602\n",
      "Feature: 9, Score: 0.00703\n",
      "Feature: 10, Score: 0.00546\n",
      "Feature: 11, Score: 0.03294\n",
      "Feature: 12, Score: 0.02654\n",
      "Feature: 13, Score: 0.02810\n",
      "Feature: 14, Score: 0.03244\n",
      "Feature: 15, Score: 0.01087\n",
      "Feature: 16, Score: 0.01975\n"
     ]
    },
    {
     "data": {
      "image/png": "[encoded data removed]",
      "text/plain": [
       "<Figure size 432x288 with 1 Axes>"
      ]
     },
     "metadata": {
      "needs_background": "light"
     },
     "output_type": "display_data"
    }
   ],
   "source": [
    "# feature importance\n",
    "importance = model2.feature_importances_\n",
    "# summarize feature importance\n",
    "for i,v in enumerate(importance):\n",
    "\tprint('Feature: %0d, Score: %.5f' % (i,v))\n",
    "# plot feature importance\n",
    "plt.bar([x for x in range(len(importance))], importance)\n",
    "plt.show()\n"
   ]
  },
  {
   "cell_type": "markdown",
   "id": "fe10f66d",
   "metadata": {},
   "source": [
    "Most important features are Geography Code, Income, No of children, Children at home and No of cars.\n",
    "\n",
    "Lets use a more powerful algorithm - random forest\n",
    "\n"
   ]
  },
  {
   "cell_type": "code",
   "execution_count": 93,
   "id": "7c291022",
   "metadata": {},
   "outputs": [],
   "source": [
    "y_cl = np.where(y>7,'High','Low')\n",
    "\n",
    "# train, test sets\n",
    "X_train, X_test, y_traincl, y_testcl = train_test_split(X, y_cl)\n"
   ]
  },
  {
   "cell_type": "code",
   "execution_count": 100,
   "id": "ca726217",
   "metadata": {},
   "outputs": [],
   "source": [
    "from sklearn.ensemble import RandomForestClassifier\n",
    "\n",
    "#Create a Classifier\n",
    "model3=RandomForestClassifier(n_estimators=500,\n",
    "                             oob_score = True,\n",
    "                             class_weight = 'balanced_subsample')\n",
    "\n",
    "# Change labels y from numerical to discrete variable\n",
    "\n",
    "\n",
    "\n",
    "#Train the model using the training sets y_pred=clf.predict(X_test)\n",
    "model3.fit(X_train,y_traincl)\n",
    "\n",
    "y_pred=model3.predict(X_test)"
   ]
  },
  {
   "cell_type": "code",
   "execution_count": 101,
   "id": "0ff3ca36",
   "metadata": {},
   "outputs": [
    {
     "name": "stdout",
     "output_type": "stream",
     "text": [
      "Accuracy: 0.7831638173555507\n"
     ]
    }
   ],
   "source": [
    "from sklearn import metrics\n",
    "# Model Accuracy, how often is the classifier correct?\n",
    "print(\"Accuracy:\",metrics.accuracy_score(y_testcl, y_pred))"
   ]
  },
  {
   "cell_type": "code",
   "execution_count": 102,
   "id": "05f61c99",
   "metadata": {},
   "outputs": [
    {
     "data": {
      "image/png": "[encoded data removed]",
      "text/plain": [
       "<Figure size 432x288 with 2 Axes>"
      ]
     },
     "metadata": {
      "needs_background": "light"
     },
     "output_type": "display_data"
    }
   ],
   "source": [
    "# 78% accurate predictions - quite good,but lets look at a confuion marix to understand better\n",
    "from sklearn.metrics import confusion_matrix, ConfusionMatrixDisplay\n",
    "cm = confusion_matrix(y_testcl, y_pred, labels=model3.classes_)\n",
    "disp = ConfusionMatrixDisplay(confusion_matrix=cm,\n",
    "                           display_labels=model3.classes_)\n",
    "disp.plot()\n",
    "plt.show()"
   ]
  },
  {
   "cell_type": "code",
   "execution_count": null,
   "id": "ed6c104c",
   "metadata": {},
   "outputs": [],
   "source": [
    "# as can be seen, model is effective at downselecting lower decile customers \n",
    "# at the cost of also downselecting 2/3 of high value customers\n",
    "# not ideal!\n",
    "\n",
    "# Further development would incorporate more features, probably including purchase history by category / product type\n",
    "\n",
    "# in conclusion, an assessment of the value of the model"
   ]
  },
  {
   "cell_type": "code",
   "execution_count": 108,
   "id": "ef7dbb7b",
   "metadata": {},
   "outputs": [
    {
     "name": "stdout",
     "output_type": "stream",
     "text": [
      "Overall mean sales per customer  $1,588\n",
      "Mean sales per top 2 decile customer  $5,273\n"
     ]
    }
   ],
   "source": [
    "# mean sales value per customer\n",
    "\n",
    "totalMean = custValDist['SalesAmount'].mean()\n",
    "\n",
    "\n",
    "print('Overall mean sales per customer  ${:0,.0f}'.format(totalMean))\n",
    "\n",
    "# 'true' mean valueoftop 2 decile customers\n",
    "\n",
    "top2Mean = custValDist.loc[custValDist['Decile']>7,'SalesAmount'].mean()\n",
    "\n",
    "print('Mean sales per top 2 decile customer  ${:0,.0f}'.format(top2Mean))"
   ]
  },
  {
   "cell_type": "code",
   "execution_count": 121,
   "id": "14e3f162",
   "metadata": {},
   "outputs": [
    {
     "name": "stderr",
     "output_type": "stream",
     "text": [
      "<ipython-input-121-ebb2e5b14968>:2: SettingWithCopyWarning: \n",
      "A value is trying to be set on a copy of a slice from a DataFrame.\n",
      "Try using .loc[row_indexer,col_indexer] = value instead\n",
      "\n",
      "See the caveats in the documentation: https://pandas.pydata.org/pandas-docs/stable/user_guide/indexing.html#returning-a-view-versus-a-copy\n",
      "  modVal['Pred']=y_pred\n"
     ]
    },
    {
     "data": {
      "text/html": [
       "<div>\n",
       "<style scoped>\n",
       "    .dataframe tbody tr th:only-of-type {\n",
       "        vertical-align: middle;\n",
       "    }\n",
       "\n",
       "    .dataframe tbody tr th {\n",
       "        vertical-align: top;\n",
       "    }\n",
       "\n",
       "    .dataframe thead th {\n",
       "        text-align: right;\n",
       "    }\n",
       "</style>\n",
       "<table border=\"1\" class=\"dataframe\">\n",
       "  <thead>\n",
       "    <tr style=\"text-align: right;\">\n",
       "      <th></th>\n",
       "      <th>level_0</th>\n",
       "      <th>index</th>\n",
       "      <th>GeographyKey</th>\n",
       "      <th>YearlyIncome</th>\n",
       "      <th>TotalChildren</th>\n",
       "      <th>NumberChildrenAtHome</th>\n",
       "      <th>NumberCarsOwned</th>\n",
       "      <th>SalesTerritoryKey</th>\n",
       "      <th>MaritalStatus_M</th>\n",
       "      <th>MaritalStatus_S</th>\n",
       "      <th>Gender_F</th>\n",
       "      <th>Gender_M</th>\n",
       "      <th>HouseOwnerFlag_0</th>\n",
       "      <th>HouseOwnerFlag_1</th>\n",
       "      <th>CommuteDistance_0-1 Miles</th>\n",
       "      <th>CommuteDistance_1-2 Miles</th>\n",
       "      <th>CommuteDistance_10+ Miles</th>\n",
       "      <th>CommuteDistance_2-5 Miles</th>\n",
       "      <th>CommuteDistance_5-10 Miles</th>\n",
       "      <th>Pred</th>\n",
       "    </tr>\n",
       "  </thead>\n",
       "  <tbody>\n",
       "    <tr>\n",
       "      <th>0</th>\n",
       "      <td>0</td>\n",
       "      <td>23511</td>\n",
       "      <td>609</td>\n",
       "      <td>80000.0</td>\n",
       "      <td>1</td>\n",
       "      <td>0</td>\n",
       "      <td>0</td>\n",
       "      <td>1</td>\n",
       "      <td>1</td>\n",
       "      <td>0</td>\n",
       "      <td>1</td>\n",
       "      <td>0</td>\n",
       "      <td>0</td>\n",
       "      <td>1</td>\n",
       "      <td>1</td>\n",
       "      <td>0</td>\n",
       "      <td>0</td>\n",
       "      <td>0</td>\n",
       "      <td>0</td>\n",
       "      <td>Low</td>\n",
       "    </tr>\n",
       "    <tr>\n",
       "      <th>1</th>\n",
       "      <td>1</td>\n",
       "      <td>48517</td>\n",
       "      <td>612</td>\n",
       "      <td>60000.0</td>\n",
       "      <td>4</td>\n",
       "      <td>0</td>\n",
       "      <td>2</td>\n",
       "      <td>1</td>\n",
       "      <td>1</td>\n",
       "      <td>0</td>\n",
       "      <td>0</td>\n",
       "      <td>1</td>\n",
       "      <td>1</td>\n",
       "      <td>0</td>\n",
       "      <td>0</td>\n",
       "      <td>1</td>\n",
       "      <td>0</td>\n",
       "      <td>0</td>\n",
       "      <td>0</td>\n",
       "      <td>Low</td>\n",
       "    </tr>\n",
       "    <tr>\n",
       "      <th>2</th>\n",
       "      <td>2</td>\n",
       "      <td>36963</td>\n",
       "      <td>302</td>\n",
       "      <td>60000.0</td>\n",
       "      <td>0</td>\n",
       "      <td>0</td>\n",
       "      <td>2</td>\n",
       "      <td>4</td>\n",
       "      <td>0</td>\n",
       "      <td>1</td>\n",
       "      <td>1</td>\n",
       "      <td>0</td>\n",
       "      <td>1</td>\n",
       "      <td>0</td>\n",
       "      <td>0</td>\n",
       "      <td>1</td>\n",
       "      <td>0</td>\n",
       "      <td>0</td>\n",
       "      <td>0</td>\n",
       "      <td>Low</td>\n",
       "    </tr>\n",
       "    <tr>\n",
       "      <th>3</th>\n",
       "      <td>3</td>\n",
       "      <td>51139</td>\n",
       "      <td>123</td>\n",
       "      <td>30000.0</td>\n",
       "      <td>0</td>\n",
       "      <td>0</td>\n",
       "      <td>1</td>\n",
       "      <td>8</td>\n",
       "      <td>0</td>\n",
       "      <td>1</td>\n",
       "      <td>0</td>\n",
       "      <td>1</td>\n",
       "      <td>1</td>\n",
       "      <td>0</td>\n",
       "      <td>0</td>\n",
       "      <td>0</td>\n",
       "      <td>0</td>\n",
       "      <td>1</td>\n",
       "      <td>0</td>\n",
       "      <td>Low</td>\n",
       "    </tr>\n",
       "    <tr>\n",
       "      <th>4</th>\n",
       "      <td>4</td>\n",
       "      <td>47591</td>\n",
       "      <td>31</td>\n",
       "      <td>70000.0</td>\n",
       "      <td>2</td>\n",
       "      <td>0</td>\n",
       "      <td>2</td>\n",
       "      <td>9</td>\n",
       "      <td>0</td>\n",
       "      <td>1</td>\n",
       "      <td>1</td>\n",
       "      <td>0</td>\n",
       "      <td>0</td>\n",
       "      <td>1</td>\n",
       "      <td>0</td>\n",
       "      <td>0</td>\n",
       "      <td>0</td>\n",
       "      <td>0</td>\n",
       "      <td>1</td>\n",
       "      <td>High</td>\n",
       "    </tr>\n",
       "  </tbody>\n",
       "</table>\n",
       "</div>"
      ],
      "text/plain": [
       "   level_0  index  GeographyKey  YearlyIncome  TotalChildren  \\\n",
       "0        0  23511           609       80000.0              1   \n",
       "1        1  48517           612       60000.0              4   \n",
       "2        2  36963           302       60000.0              0   \n",
       "3        3  51139           123       30000.0              0   \n",
       "4        4  47591            31       70000.0              2   \n",
       "\n",
       "   NumberChildrenAtHome  NumberCarsOwned  SalesTerritoryKey  MaritalStatus_M  \\\n",
       "0                     0                0                  1                1   \n",
       "1                     0                2                  1                1   \n",
       "2                     0                2                  4                0   \n",
       "3                     0                1                  8                0   \n",
       "4                     0                2                  9                0   \n",
       "\n",
       "   MaritalStatus_S  Gender_F  Gender_M  HouseOwnerFlag_0  HouseOwnerFlag_1  \\\n",
       "0                0         1         0                 0                 1   \n",
       "1                0         0         1                 1                 0   \n",
       "2                1         1         0                 1                 0   \n",
       "3                1         0         1                 1                 0   \n",
       "4                1         1         0                 0                 1   \n",
       "\n",
       "   CommuteDistance_0-1 Miles  CommuteDistance_1-2 Miles  \\\n",
       "0                          1                          0   \n",
       "1                          0                          1   \n",
       "2                          0                          1   \n",
       "3                          0                          0   \n",
       "4                          0                          0   \n",
       "\n",
       "   CommuteDistance_10+ Miles  CommuteDistance_2-5 Miles  \\\n",
       "0                          0                          0   \n",
       "1                          0                          0   \n",
       "2                          0                          0   \n",
       "3                          0                          1   \n",
       "4                          0                          0   \n",
       "\n",
       "   CommuteDistance_5-10 Miles  Pred  \n",
       "0                           0   Low  \n",
       "1                           0   Low  \n",
       "2                           0   Low  \n",
       "3                           0   Low  \n",
       "4                           1  High  "
      ]
     },
     "execution_count": 121,
     "metadata": {},
     "output_type": "execute_result"
    }
   ],
   "source": [
    "modVal=X_test\n",
    "modVal['Pred']=y_pred\n",
    "modVal.head()"
   ]
  },
  {
   "cell_type": "code",
   "execution_count": 127,
   "id": "9ba8561e",
   "metadata": {},
   "outputs": [],
   "source": [
    "# get sales value\n",
    "highPred = modVal.loc[modVal['Pred']=='High','index']\n"
   ]
  },
  {
   "cell_type": "code",
   "execution_count": 132,
   "id": "645cd44b",
   "metadata": {},
   "outputs": [
    {
     "name": "stdout",
     "output_type": "stream",
     "text": [
      "Mean sales of model predicted customer  $1,737\n"
     ]
    }
   ],
   "source": [
    "modMean = custValDist.loc[custValDist['CustomerKey'].isin(highPred),'SalesAmount'].mean()\n",
    "print('Mean sales of model predicted customer  ${:0,.0f}'.format(modMean))"
   ]
  },
  {
   "cell_type": "markdown",
   "id": "bf0490ca",
   "metadata": {},
   "source": [
    "In summary, the model has produced a very modest improvement over the background average\n",
    "Further development by expanding the feature set would be recommended. "
   ]
  }
 ],
 "metadata": {
  "kernelspec": {
   "display_name": "Python 3",
   "language": "python",
   "name": "python3"
  },
  "language_info": {
   "codemirror_mode": {
    "name": "ipython",
    "version": 3
   },
   "file_extension": ".py",
   "mimetype": "text/x-python",
   "name": "python",
   "nbconvert_exporter": "python",
   "pygments_lexer": "ipython3",
   "version": "3.8.8"
  }
 },
 "nbformat": 4,
 "nbformat_minor": 5
}
